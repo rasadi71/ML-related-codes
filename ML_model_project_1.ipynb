{
 "cells": [
  {
   "cell_type": "markdown",
   "metadata": {},
   "source": [
    "1.Error check for Lowa dataset"
   ]
  },
  {
   "cell_type": "code",
   "execution_count": 3,
   "metadata": {},
   "outputs": [
    {
     "name": "stdout",
     "output_type": "stream",
     "text": [
      "error 30.351806521100556\n"
     ]
    }
   ],
   "source": [
    "import pandas as pd\n",
    "from sklearn.tree import DecisionTreeRegressor\n",
    "\n",
    "\n",
    "train_data = pd.read_csv(r\"C:\\Users\\romal\\OneDrive\\Desktop\\train.csv\")\n",
    "test_data = pd.read_csv(r\"C:\\Users\\romal\\OneDrive\\Desktop\\test.csv\")\n",
    "\n",
    "\n",
    "train_x = train_data[['LotFrontage', 'LotArea', 'YrSold']] \n",
    "train_y = train_data['MSSubClass'] \n",
    "\n",
    "# Correcting the column selection for test_x\n",
    "test_x = test_data[['LotFrontage', 'LotArea', 'YrSold']] \n",
    "test_y = test_data['MSSubClass']  \n",
    "\n",
    "\n",
    "\n",
    "# Initialize and train the DecisionTreeRegressor\n",
    "ml_model = DecisionTreeRegressor(random_state=1)\n",
    "\n",
    "# Fit the model to the training data\n",
    "ml_model.fit(train_x, train_y)\n",
    "prediction=ml_model.predict(test_x)\n",
    "from sklearn.metrics import mean_absolute_error\n",
    "error=mean_absolute_error(test_y,prediction)\n",
    "print(\"error\",error)\n"
   ]
  },
  {
   "cell_type": "markdown",
   "metadata": {},
   "source": [
    "ML Model for Melbiurne\n"
   ]
  },
  {
   "cell_type": "code",
   "execution_count": 2,
   "metadata": {},
   "outputs": [
    {
     "name": "stdout",
     "output_type": "stream",
     "text": [
      "              Suburb           Address  Rooms Type      Price Method  \\\n",
      "0         Abbotsford      85 Turner St      2    h  1480000.0      S   \n",
      "1         Abbotsford   25 Bloomburg St      2    h  1035000.0      S   \n",
      "2         Abbotsford      5 Charles St      3    h  1465000.0     SP   \n",
      "3         Abbotsford  40 Federation La      3    h   850000.0     PI   \n",
      "4         Abbotsford       55a Park St      4    h  1600000.0     VB   \n",
      "...              ...               ...    ...  ...        ...    ...   \n",
      "13575  Wheelers Hill      12 Strada Cr      4    h  1245000.0      S   \n",
      "13576   Williamstown     77 Merrett Dr      3    h  1031000.0     SP   \n",
      "13577   Williamstown       83 Power St      3    h  1170000.0      S   \n",
      "13578   Williamstown      96 Verdon St      4    h  2500000.0     PI   \n",
      "13579     Yarraville        6 Agnes St      4    h  1285000.0     SP   \n",
      "\n",
      "        SellerG        Date  Distance  Postcode  ...  Bathroom  Car  Landsize  \\\n",
      "0        Biggin   3/12/2016       2.5    3067.0  ...       1.0  1.0     202.0   \n",
      "1        Biggin   4/02/2016       2.5    3067.0  ...       1.0  0.0     156.0   \n",
      "2        Biggin   4/03/2017       2.5    3067.0  ...       2.0  0.0     134.0   \n",
      "3        Biggin   4/03/2017       2.5    3067.0  ...       2.0  1.0      94.0   \n",
      "4        Nelson   4/06/2016       2.5    3067.0  ...       1.0  2.0     120.0   \n",
      "...         ...         ...       ...       ...  ...       ...  ...       ...   \n",
      "13575     Barry  26/08/2017      16.7    3150.0  ...       2.0  2.0     652.0   \n",
      "13576  Williams  26/08/2017       6.8    3016.0  ...       2.0  2.0     333.0   \n",
      "13577     Raine  26/08/2017       6.8    3016.0  ...       2.0  4.0     436.0   \n",
      "13578   Sweeney  26/08/2017       6.8    3016.0  ...       1.0  5.0     866.0   \n",
      "13579   Village  26/08/2017       6.3    3013.0  ...       1.0  1.0     362.0   \n",
      "\n",
      "       BuildingArea  YearBuilt  CouncilArea Lattitude  Longtitude  \\\n",
      "0               NaN        NaN        Yarra -37.79960   144.99840   \n",
      "1              79.0     1900.0        Yarra -37.80790   144.99340   \n",
      "2             150.0     1900.0        Yarra -37.80930   144.99440   \n",
      "3               NaN        NaN        Yarra -37.79690   144.99690   \n",
      "4             142.0     2014.0        Yarra -37.80720   144.99410   \n",
      "...             ...        ...          ...       ...         ...   \n",
      "13575           NaN     1981.0          NaN -37.90562   145.16761   \n",
      "13576         133.0     1995.0          NaN -37.85927   144.87904   \n",
      "13577           NaN     1997.0          NaN -37.85274   144.88738   \n",
      "13578         157.0     1920.0          NaN -37.85908   144.89299   \n",
      "13579         112.0     1920.0          NaN -37.81188   144.88449   \n",
      "\n",
      "                       Regionname Propertycount  \n",
      "0           Northern Metropolitan        4019.0  \n",
      "1           Northern Metropolitan        4019.0  \n",
      "2           Northern Metropolitan        4019.0  \n",
      "3           Northern Metropolitan        4019.0  \n",
      "4           Northern Metropolitan        4019.0  \n",
      "...                           ...           ...  \n",
      "13575  South-Eastern Metropolitan        7392.0  \n",
      "13576        Western Metropolitan        6380.0  \n",
      "13577        Western Metropolitan        6380.0  \n",
      "13578        Western Metropolitan        6380.0  \n",
      "13579        Western Metropolitan        6543.0  \n",
      "\n",
      "[13580 rows x 21 columns]\n",
      "[1325000.  955000.  571000. ... 1575000.  819000. 1285000.]\n",
      "Mean Absolute Error: 250429.6127638684\n"
     ]
    }
   ],
   "source": [
    "import pandas as pd \n",
    "import numpy as np\n",
    "import sklearn \n",
    "d_file=r\"C:\\Users\\romal\\OneDrive\\Desktop\\melb_data.csv\"\n",
    "melb_data=pd.read_csv(d_file)\n",
    "print(melb_data)\n",
    "feat=['Rooms','Bathroom','Landsize','Lattitude','Longtitude']\n",
    "x=melb_data[feat]\n",
    "y=melb_data['Price']\n",
    "from sklearn.model_selection import train_test_split\n",
    "tr_x,v_x,tr_y,v_y=train_test_split(x,y,random_state=0)\n",
    "from sklearn.tree import DecisionTreeRegressor\n",
    "ml_model=DecisionTreeRegressor(random_state=1)\n",
    "ml_model.fit(tr_x,tr_y)\n",
    "y_pred=ml_model.predict(v_x)\n",
    "print(y_pred)\n",
    "from sklearn.metrics import mean_absolute_error\n",
    "mean_absolute_error(v_y,y_pred)\n",
    "print(\"Mean Absolute Error:\", mean_absolute_error(v_y, y_pred))"
   ]
  }
 ],
 "metadata": {
  "kernelspec": {
   "display_name": "Python 3",
   "language": "python",
   "name": "python3"
  },
  "language_info": {
   "codemirror_mode": {
    "name": "ipython",
    "version": 3
   },
   "file_extension": ".py",
   "mimetype": "text/x-python",
   "name": "python",
   "nbconvert_exporter": "python",
   "pygments_lexer": "ipython3",
   "version": "3.11.9"
  }
 },
 "nbformat": 4,
 "nbformat_minor": 2
}

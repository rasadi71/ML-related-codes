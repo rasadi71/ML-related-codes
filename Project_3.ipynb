{
 "cells": [
  {
   "cell_type": "markdown",
   "metadata": {},
   "source": [
    "Best model for max_leaf_nodes "
   ]
  },
  {
   "cell_type": "code",
   "execution_count": 3,
   "metadata": {},
   "outputs": [],
   "source": [
    "from sklearn.tree import DecisionTreeRegressor\n",
    "from sklearn.metrics import mean_absolute_error\n",
    "import pandas as pd"
   ]
  },
  {
   "cell_type": "code",
   "execution_count": 4,
   "metadata": {},
   "outputs": [],
   "source": [
    "train_data=pd.read_csv(r\"C:\\Users\\romal\\OneDrive\\Desktop\\train.csv\")\n",
    "test_data=pd.read_csv(r\"C:\\Users\\romal\\OneDrive\\Desktop\\test.csv\")\n",
    "\n",
    "tr_x = train_data[['LotFrontage', 'LotArea', 'YrSold']] \n",
    "tr_y = train_data['MSSubClass'] \n",
    "\n",
    "# Correcting the column selection for test_x\n",
    "v_x = test_data[['LotFrontage', 'LotArea', 'YrSold']] \n",
    "v_y = test_data['MSSubClass'] "
   ]
  },
  {
   "cell_type": "code",
   "execution_count": 27,
   "metadata": {},
   "outputs": [],
   "source": [
    "def get_mae(max_leaf_nodes, tr_x, v_x, tr_y, v_y):\n",
    "    model = DecisionTreeRegressor(max_leaf_nodes=max_leaf_nodes, random_state=1)\n",
    "    model.fit(tr_x, tr_y)\n",
    "    pred_y = model.predict(v_x)\n",
    "    return mean_absolute_error(v_y, pred_y)  # Ensure it returns a valid value\n"
   ]
  },
  {
   "cell_type": "code",
   "execution_count": 28,
   "metadata": {},
   "outputs": [
    {
     "name": "stdout",
     "output_type": "stream",
     "text": [
      "Max leaf node :5 MAE is 25.457600334737236\n",
      "Max leaf node :25 MAE is 25.35828289981558\n",
      "Max leaf node :50 MAE is 25.55416874579094\n",
      "Max leaf node :100 MAE is 26.62701526167632\n",
      "Max leaf node :250 MAE is 28.708287953962866\n",
      "Max leaf node :500 MAE is 30.10094210552588\n"
     ]
    }
   ],
   "source": [
    "leaf_nodes_list=[5,25,50,100,250,500]\n",
    "mae_result={}\n",
    "for leaf_nodes in leaf_nodes_list:\n",
    "    mae=get_mae(leaf_nodes,tr_x,v_x,tr_y,v_y)\n",
    "    mae_result[leaf_nodes]=mae\n",
    "    print(f\"Max leaf node :{leaf_nodes} MAE is {mae}\")     \n",
    "    "
   ]
  },
  {
   "cell_type": "code",
   "execution_count": 29,
   "metadata": {},
   "outputs": [
    {
     "name": "stdout",
     "output_type": "stream",
     "text": [
      "\n",
      " best_leaf_model  node is 500 with MAE:25\n"
     ]
    }
   ],
   "source": [
    "best_leaf_nodes=min(mae_result,key=mae_result.get)\n",
    "best_mae=mae_result[best_leaf_nodes]\n",
    "\n",
    "print(f\"\\n best_leaf_model  node is {leaf_nodes} with MAE:{best_leaf_nodes}\")"
   ]
  }
 ],
 "metadata": {
  "kernelspec": {
   "display_name": "Python 3",
   "language": "python",
   "name": "python3"
  },
  "language_info": {
   "codemirror_mode": {
    "name": "ipython",
    "version": 3
   },
   "file_extension": ".py",
   "mimetype": "text/x-python",
   "name": "python",
   "nbconvert_exporter": "python",
   "pygments_lexer": "ipython3",
   "version": "3.11.9"
  }
 },
 "nbformat": 4,
 "nbformat_minor": 2
}
